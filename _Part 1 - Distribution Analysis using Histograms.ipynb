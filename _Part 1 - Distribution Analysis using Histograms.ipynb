{
 "cells": [
  {
   "cell_type": "markdown",
   "metadata": {},
   "source": [
    "# Welcome To This Notebook \n",
    "--- In this notebook we get help from histograms to see somo interesting behavior about movies. It was made by Jesús Emmanuel Román Acosta"
   ]
  },
  {
   "cell_type": "markdown",
   "metadata": {},
   "source": [
    "Importing the pandas library"
   ]
  },
  {
   "cell_type": "code",
   "execution_count": 2,
   "metadata": {},
   "outputs": [],
   "source": [
    "import pandas as pd "
   ]
  },
  {
   "cell_type": "markdown",
   "metadata": {},
   "source": [
    "Import the json Imdb Dataset"
   ]
  },
  {
   "cell_type": "code",
   "execution_count": 3,
   "metadata": {},
   "outputs": [
    {
     "data": {
      "text/html": [
       "<div>\n",
       "<style scoped>\n",
       "    .dataframe tbody tr th:only-of-type {\n",
       "        vertical-align: middle;\n",
       "    }\n",
       "\n",
       "    .dataframe tbody tr th {\n",
       "        vertical-align: top;\n",
       "    }\n",
       "\n",
       "    .dataframe thead th {\n",
       "        text-align: right;\n",
       "    }\n",
       "</style>\n",
       "<table border=\"1\" class=\"dataframe\">\n",
       "  <thead>\n",
       "    <tr style=\"text-align: right;\">\n",
       "      <th></th>\n",
       "      <th>budget</th>\n",
       "      <th>color</th>\n",
       "      <th>country</th>\n",
       "      <th>director_name</th>\n",
       "      <th>duration</th>\n",
       "      <th>genres</th>\n",
       "      <th>gross</th>\n",
       "      <th>imdb_score</th>\n",
       "      <th>language</th>\n",
       "      <th>movie_imdb_link</th>\n",
       "      <th>movie_title</th>\n",
       "      <th>num_critic_for_reviews</th>\n",
       "      <th>star_name</th>\n",
       "      <th>title_year</th>\n",
       "    </tr>\n",
       "  </thead>\n",
       "  <tbody>\n",
       "    <tr>\n",
       "      <th>0</th>\n",
       "      <td>237000000.0</td>\n",
       "      <td>Color</td>\n",
       "      <td>USA</td>\n",
       "      <td>James Cameron</td>\n",
       "      <td>178.0</td>\n",
       "      <td>Action|Adventure|Fantasy|Sci-Fi</td>\n",
       "      <td>760505847.0</td>\n",
       "      <td>7.9</td>\n",
       "      <td>English</td>\n",
       "      <td>http://www.imdb.com/title/tt0499549/?ref_=fn_t...</td>\n",
       "      <td>Avatar</td>\n",
       "      <td>723.0</td>\n",
       "      <td>CCH Pounder</td>\n",
       "      <td>2009.0</td>\n",
       "    </tr>\n",
       "    <tr>\n",
       "      <th>1</th>\n",
       "      <td>300000000.0</td>\n",
       "      <td>Color</td>\n",
       "      <td>USA</td>\n",
       "      <td>Gore Verbinski</td>\n",
       "      <td>169.0</td>\n",
       "      <td>Action|Adventure|Fantasy</td>\n",
       "      <td>309404152.0</td>\n",
       "      <td>7.1</td>\n",
       "      <td>English</td>\n",
       "      <td>http://www.imdb.com/title/tt0449088/?ref_=fn_t...</td>\n",
       "      <td>Pirates of the Caribbean: At World's End</td>\n",
       "      <td>302.0</td>\n",
       "      <td>Johnny Depp</td>\n",
       "      <td>2007.0</td>\n",
       "    </tr>\n",
       "    <tr>\n",
       "      <th>2</th>\n",
       "      <td>245000000.0</td>\n",
       "      <td>Color</td>\n",
       "      <td>UK</td>\n",
       "      <td>Sam Mendes</td>\n",
       "      <td>148.0</td>\n",
       "      <td>Action|Adventure|Thriller</td>\n",
       "      <td>200074175.0</td>\n",
       "      <td>6.8</td>\n",
       "      <td>English</td>\n",
       "      <td>http://www.imdb.com/title/tt2379713/?ref_=fn_t...</td>\n",
       "      <td>Spectre</td>\n",
       "      <td>602.0</td>\n",
       "      <td>Christoph Waltz</td>\n",
       "      <td>2015.0</td>\n",
       "    </tr>\n",
       "    <tr>\n",
       "      <th>3</th>\n",
       "      <td>250000000.0</td>\n",
       "      <td>Color</td>\n",
       "      <td>USA</td>\n",
       "      <td>Christopher Nolan</td>\n",
       "      <td>164.0</td>\n",
       "      <td>Action|Thriller</td>\n",
       "      <td>448130642.0</td>\n",
       "      <td>8.5</td>\n",
       "      <td>English</td>\n",
       "      <td>http://www.imdb.com/title/tt1345836/?ref_=fn_t...</td>\n",
       "      <td>The Dark Knight Rises</td>\n",
       "      <td>813.0</td>\n",
       "      <td>Tom Hardy</td>\n",
       "      <td>2012.0</td>\n",
       "    </tr>\n",
       "    <tr>\n",
       "      <th>4</th>\n",
       "      <td>NaN</td>\n",
       "      <td>NaN</td>\n",
       "      <td>NaN</td>\n",
       "      <td>Doug Walker</td>\n",
       "      <td>NaN</td>\n",
       "      <td>Documentary</td>\n",
       "      <td>NaN</td>\n",
       "      <td>7.1</td>\n",
       "      <td>NaN</td>\n",
       "      <td>http://www.imdb.com/title/tt5289954/?ref_=fn_t...</td>\n",
       "      <td>Star Wars: Episode VII - The Force Awakens</td>\n",
       "      <td>NaN</td>\n",
       "      <td>Doug Walker</td>\n",
       "      <td>NaN</td>\n",
       "    </tr>\n",
       "  </tbody>\n",
       "</table>\n",
       "</div>"
      ],
      "text/plain": [
       "        budget  color country      director_name  duration  \\\n",
       "0  237000000.0  Color     USA      James Cameron     178.0   \n",
       "1  300000000.0  Color     USA     Gore Verbinski     169.0   \n",
       "2  245000000.0  Color      UK         Sam Mendes     148.0   \n",
       "3  250000000.0  Color     USA  Christopher Nolan     164.0   \n",
       "4          NaN    NaN     NaN        Doug Walker       NaN   \n",
       "\n",
       "                            genres        gross  imdb_score language  \\\n",
       "0  Action|Adventure|Fantasy|Sci-Fi  760505847.0         7.9  English   \n",
       "1         Action|Adventure|Fantasy  309404152.0         7.1  English   \n",
       "2        Action|Adventure|Thriller  200074175.0         6.8  English   \n",
       "3                  Action|Thriller  448130642.0         8.5  English   \n",
       "4                      Documentary          NaN         7.1      NaN   \n",
       "\n",
       "                                     movie_imdb_link  \\\n",
       "0  http://www.imdb.com/title/tt0499549/?ref_=fn_t...   \n",
       "1  http://www.imdb.com/title/tt0449088/?ref_=fn_t...   \n",
       "2  http://www.imdb.com/title/tt2379713/?ref_=fn_t...   \n",
       "3  http://www.imdb.com/title/tt1345836/?ref_=fn_t...   \n",
       "4  http://www.imdb.com/title/tt5289954/?ref_=fn_t...   \n",
       "\n",
       "                                  movie_title  num_critic_for_reviews  \\\n",
       "0                                      Avatar                   723.0   \n",
       "1    Pirates of the Caribbean: At World's End                   302.0   \n",
       "2                                     Spectre                   602.0   \n",
       "3                       The Dark Knight Rises                   813.0   \n",
       "4  Star Wars: Episode VII - The Force Awakens                     NaN   \n",
       "\n",
       "         star_name  title_year  \n",
       "0      CCH Pounder      2009.0  \n",
       "1      Johnny Depp      2007.0  \n",
       "2  Christoph Waltz      2015.0  \n",
       "3        Tom Hardy      2012.0  \n",
       "4      Doug Walker         NaN  "
      ]
     },
     "execution_count": 3,
     "metadata": {},
     "output_type": "execute_result"
    }
   ],
   "source": [
    "# Your code goes here\n",
    "df = pd.read_json('C:\\Users\\jera2\\OneDrive\\Documentos\\PortafolioPython\\movies_dataset.json')\n",
    "df.head()"
   ]
  },
  {
   "cell_type": "markdown",
   "metadata": {},
   "source": [
    "Answer to the following Analytical questions: \n",
    "\n",
    "Question 1: Use Histograms to compare the disribution of movie `imdb_score` column related to movies produced in `France` and `Canada`. \n",
    "\n",
    "While creating the histgoram:\n",
    "- Set the number of bins to 20 \n",
    "- Set the xAxis Label \n",
    "- Set the yAxis Label\n",
    "- Remove the grid lines\n"
   ]
  },
  {
   "cell_type": "code",
   "execution_count": 5,
   "metadata": {},
   "outputs": [
    {
     "data": {
      "text/plain": [
       "Text(0.5,1,'Canadian movies imdb scores histogram')"
      ]
     },
     "execution_count": 5,
     "metadata": {},
     "output_type": "execute_result"
    },
    {
     "data": {
      "image/png": "[encoded data removed]",
      "text/plain": [
       "<Figure size 432x288 with 1 Axes>"
      ]
     },
     "metadata": {
      "needs_background": "light"
     },
     "output_type": "display_data"
    }
   ],
   "source": [
    "# Create the histogram for Canada here \n",
    "canada=df[df.country =='Canada'].imdb_score.hist(bins=20, grid=False)\n",
    "canada.set_xlabel('imdb score')\n",
    "canada.set_ylabel('count')\n",
    "canada.set_title('Canadian movies imdb scores histogram')"
   ]
  },
  {
   "cell_type": "code",
   "execution_count": 9,
   "metadata": {},
   "outputs": [
    {
     "data": {
      "text/plain": [
       "Text(0.5,1,'French movies imdb scores histogram')"
      ]
     },
     "execution_count": 9,
     "metadata": {},
     "output_type": "execute_result"
    },
    {
     "data": {
      "image/png": "[encoded data removed]",
      "text/plain": [
       "<Figure size 432x288 with 1 Axes>"
      ]
     },
     "metadata": {
      "needs_background": "light"
     },
     "output_type": "display_data"
    }
   ],
   "source": [
    "# Create the histogram for France here \n",
    "canada=df[df.country =='France'].imdb_score.hist(bins=20, grid=False)\n",
    "canada.set_xlabel('imdb score')\n",
    "canada.set_ylabel('count')\n",
    "canada.set_title('French movies imdb scores histogram')"
   ]
  },
  {
   "cell_type": "markdown",
   "metadata": {},
   "source": [
    "Question 2: Create a histogram to check the distribution of `imdb_score` spent to produce Black&White movies.\n",
    "\n",
    "While creating the histgoram:\n",
    "- Set the number of bins to 10 \n",
    "- Set the xAxis Label \n",
    "- Set the yAxis Label\n",
    "- Remove the grid lines\n"
   ]
  },
  {
   "cell_type": "code",
   "execution_count": 11,
   "metadata": {},
   "outputs": [
    {
     "data": {
      "text/plain": [
       "Text(0.5,1,'Black&White movies budget histogram')"
      ]
     },
     "execution_count": 11,
     "metadata": {},
     "output_type": "execute_result"
    },
    {
     "data": {
      "image/png": "[encoded data removed]",
      "text/plain": [
       "<Figure size 432x288 with 1 Axes>"
      ]
     },
     "metadata": {
      "needs_background": "light"
     },
     "output_type": "display_data"
    }
   ],
   "source": [
    "d2=df[df.color=='Black and White'].budget.hist(bins=10, grid=False)\n",
    "d2.set_xlabel('budget')\n",
    "d2.set_ylabel('count')\n",
    "d2.set_title('Black&White movies budget histogram')"
   ]
  }
 ],
 "metadata": {
  "kernelspec": {
   "display_name": "Python 2",
   "language": "python",
   "name": "python2"
  },
  "language_info": {
   "codemirror_mode": {
    "name": "ipython",
    "version": 2
   },
   "file_extension": ".py",
   "mimetype": "text/x-python",
   "name": "python",
   "nbconvert_exporter": "python",
   "pygments_lexer": "ipython2",
   "version": "2.7.16"
  }
 },
 "nbformat": 4,
 "nbformat_minor": 5
}
